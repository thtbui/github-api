{
 "cells": [
  {
   "cell_type": "markdown",
   "id": "92fe2f8e",
   "metadata": {},
   "source": [
    "<h1>Requesting data from Github using API</h1>\n",
    "\n",
    "## 1. Request Json output from GitHub search API:\n",
    "+ Document can be found at: https://docs.github.com/en/search-github/searching-on-github/searching-for-repositories\n",
    "+ API documentation: https://docs.github.com/en/rest/reference/search#search-repositories"
   ]
  },
  {
   "cell_type": "code",
   "execution_count": 9,
   "id": "2db664ff",
   "metadata": {},
   "outputs": [
    {
     "name": "stdout",
     "output_type": "stream",
     "text": [
      "There are 969 respositories that contain the term *open education*\n"
     ]
    }
   ],
   "source": [
    "# Creating a function to search for repositories with a given keyword\n",
    "# per_page: extract 100 items each page\n",
    "import requests\n",
    "import math\n",
    "\n",
    "def find_repo(term):\n",
    "    url = \"https://api.github.com/search/repositories\"\n",
    "    response = requests.get(url, headers={\"Accept\": \"application/json\"},\n",
    "                       params = {\"q\": term,\n",
    "                                \"per_page\":100})\n",
    "    git_request = response.json()\n",
    "    print (f\"There are {git_request['total_count']} respositories that contain the term *{term}*\")\n",
    "\n",
    "find_repo(\"open education\")         "
   ]
  },
  {
   "cell_type": "markdown",
   "id": "d819c6f4",
   "metadata": {},
   "source": [
    "## 2. Trying to get data from all pages\n",
    "From this point towards, we tried to do pagination because GitHub only returns 1000 first results per request.\n",
    "1. We built a function to calculate the total pages\n",
    "2. We planned to do a loop to get all data while the page number is no large than <total_page>, however, we have not succeed yet.\n",
    "3. Next: We will try a  solution suggested on Stackoverflow: splitting up the search into segments by  date of creation: https://stackoverflow.com/questions/37602893/github-search-limit-results"
   ]
  },
  {
   "cell_type": "code",
   "execution_count": 10,
   "id": "a5d861fc",
   "metadata": {},
   "outputs": [
    {
     "data": {
      "text/plain": [
       "33"
      ]
     },
     "execution_count": 10,
     "metadata": {},
     "output_type": "execute_result"
    }
   ],
   "source": [
    "# Function to calculate the total pages\n",
    "\n",
    "def total_page(term):\n",
    "    url = \"https://api.github.com/search/repositories\"\n",
    "    response = requests.get(url, headers={\"Accept\": \"application/json\"},\n",
    "                            params = {\"q\": term})\n",
    "    pages = math.ceil(response.json()['total_count']/(len(response.json()['items'])))\n",
    "    return pages\n",
    "\n",
    "term = \"open education\"\n",
    "total_page(term)"
   ]
  },
  {
   "cell_type": "code",
   "execution_count": 11,
   "id": "0320ea2b",
   "metadata": {},
   "outputs": [
    {
     "ename": "KeyError",
     "evalue": "'total_count'",
     "output_type": "error",
     "traceback": [
      "\u001b[1;31m---------------------------------------------------------------------------\u001b[0m",
      "\u001b[1;31mKeyError\u001b[0m                                  Traceback (most recent call last)",
      "\u001b[1;32m<ipython-input-11-2208db782f69>\u001b[0m in \u001b[0;36m<module>\u001b[1;34m\u001b[0m\n\u001b[0;32m     22\u001b[0m             \u001b[1;32mreturn\u001b[0m \u001b[0mrepo_list\u001b[0m\u001b[1;33m\u001b[0m\u001b[1;33m\u001b[0m\u001b[0m\n\u001b[0;32m     23\u001b[0m \u001b[1;33m\u001b[0m\u001b[0m\n\u001b[1;32m---> 24\u001b[1;33m \u001b[0mfind_repo\u001b[0m\u001b[1;33m(\u001b[0m\u001b[1;34m\"open education\"\u001b[0m\u001b[1;33m)\u001b[0m\u001b[1;33m\u001b[0m\u001b[1;33m\u001b[0m\u001b[0m\n\u001b[0m",
      "\u001b[1;32m<ipython-input-11-2208db782f69>\u001b[0m in \u001b[0;36mfind_repo\u001b[1;34m(term)\u001b[0m\n\u001b[0;32m     15\u001b[0m                                         \"page\": page}) #setting 50 items per page\n\u001b[0;32m     16\u001b[0m         \u001b[0mrepo_request\u001b[0m \u001b[1;33m=\u001b[0m \u001b[0mresponse\u001b[0m\u001b[1;33m.\u001b[0m\u001b[0mjson\u001b[0m\u001b[1;33m(\u001b[0m\u001b[1;33m)\u001b[0m\u001b[1;33m\u001b[0m\u001b[1;33m\u001b[0m\u001b[0m\n\u001b[1;32m---> 17\u001b[1;33m         \u001b[0mtotal_page\u001b[0m \u001b[1;33m=\u001b[0m \u001b[0mmath\u001b[0m\u001b[1;33m.\u001b[0m\u001b[0mceil\u001b[0m\u001b[1;33m(\u001b[0m\u001b[0mrepo_request\u001b[0m\u001b[1;33m[\u001b[0m\u001b[1;34m'total_count'\u001b[0m\u001b[1;33m]\u001b[0m\u001b[1;33m/\u001b[0m\u001b[1;36m50\u001b[0m\u001b[1;33m)\u001b[0m \u001b[1;31m#total pages = total items/items per page\u001b[0m\u001b[1;33m\u001b[0m\u001b[1;33m\u001b[0m\u001b[0m\n\u001b[0m\u001b[0;32m     18\u001b[0m         \u001b[0mrepo_list\u001b[0m\u001b[1;33m.\u001b[0m\u001b[0mextend\u001b[0m\u001b[1;33m(\u001b[0m\u001b[0mrepo_request\u001b[0m\u001b[1;33m[\u001b[0m\u001b[1;34m'items'\u001b[0m\u001b[1;33m]\u001b[0m\u001b[1;33m)\u001b[0m\u001b[1;33m\u001b[0m\u001b[1;33m\u001b[0m\u001b[0m\n\u001b[0;32m     19\u001b[0m         \u001b[1;32mif\u001b[0m \u001b[0mpage\u001b[0m \u001b[1;33m<=\u001b[0m \u001b[0mtotal_page\u001b[0m\u001b[1;33m:\u001b[0m\u001b[1;33m\u001b[0m\u001b[1;33m\u001b[0m\u001b[0m\n",
      "\u001b[1;31mKeyError\u001b[0m: 'total_count'"
     ]
    }
   ],
   "source": [
    "# Building a function to request more pages but didn't succeed yet\n",
    "import requests\n",
    "import math\n",
    "\n",
    "def find_repo(term):\n",
    "    url = \"https://api.github.com/search/repositories\"\n",
    "    page = 1\n",
    "    repo_list =[]\n",
    "\n",
    "    while True: #while page <= total page, keep requesting and adding repository data to repo_list\n",
    "        response = requests.get(url,\n",
    "                                headers={\"Accept\": \"application/json\"},\n",
    "                                params={\"q\": term,\n",
    "                                        \"per_page\": 50,\n",
    "                                        \"page\": page}) #setting 50 items per page\n",
    "        repo_request = response.json()\n",
    "        total_page = math.ceil(repo_request['total_count']/50) #total pages = total items/items per page\n",
    "        repo_list.extend(repo_request['items'])\n",
    "        if page <= total_page:\n",
    "            page += 1\n",
    "        else: \n",
    "            return repo_list\n",
    "\n",
    "find_repo(\"open education\")"
   ]
  }
 ],
 "metadata": {
  "kernelspec": {
   "display_name": "Python 3",
   "language": "python",
   "name": "python3"
  },
  "language_info": {
   "codemirror_mode": {
    "name": "ipython",
    "version": 3
   },
   "file_extension": ".py",
   "mimetype": "text/x-python",
   "name": "python",
   "nbconvert_exporter": "python",
   "pygments_lexer": "ipython3",
   "version": "3.8.8"
  }
 },
 "nbformat": 4,
 "nbformat_minor": 5
}
